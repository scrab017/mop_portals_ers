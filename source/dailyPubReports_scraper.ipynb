{
 "cells": [
  {
   "cell_type": "code",
   "execution_count": 1,
   "metadata": {},
   "outputs": [],
   "source": [
    "import requests\n",
    "import pandas as pd"
   ]
  },
  {
   "cell_type": "code",
   "execution_count": 2,
   "metadata": {},
   "outputs": [],
   "source": [
    "list_dates = pd.Series(pd.date_range(start=\"2020-10-01\",end=\"2020-10-08\"))"
   ]
  },
  {
   "cell_type": "code",
   "execution_count": 3,
   "metadata": {},
   "outputs": [],
   "source": [
    "date_folder_string_list = list(list_dates.apply(lambda x: str(x.strftime('%d-%m-%Y'))))\n",
    "date_file_string_list = list(list_dates.apply(lambda x: str(x.strftime('%Y-%m-%d'))))"
   ]
  },
  {
   "cell_type": "code",
   "execution_count": 4,
   "metadata": {},
   "outputs": [
    {
     "data": {
      "text/plain": [
       "['2020-10-01',\n",
       " '2020-10-02',\n",
       " '2020-10-03',\n",
       " '2020-10-04',\n",
       " '2020-10-05',\n",
       " '2020-10-06',\n",
       " '2020-10-07',\n",
       " '2020-10-08']"
      ]
     },
     "execution_count": 4,
     "metadata": {},
     "output_type": "execute_result"
    }
   ],
   "source": [
    "date_file_string_list"
   ]
  },
  {
   "cell_type": "code",
   "execution_count": 5,
   "metadata": {
    "scrolled": true
   },
   "outputs": [
    {
     "data": {
      "text/plain": [
       "['01-10-2020',\n",
       " '02-10-2020',\n",
       " '03-10-2020',\n",
       " '04-10-2020',\n",
       " '05-10-2020',\n",
       " '06-10-2020',\n",
       " '07-10-2020',\n",
       " '08-10-2020']"
      ]
     },
     "execution_count": 5,
     "metadata": {},
     "output_type": "execute_result"
    }
   ],
   "source": [
    "date_folder_string_list"
   ]
  },
  {
   "cell_type": "markdown",
   "metadata": {},
   "source": [
    "### Report 1"
   ]
  },
  {
   "cell_type": "code",
   "execution_count": 6,
   "metadata": {},
   "outputs": [],
   "source": [
    "for i in range(0,len(date_folder_string_list)):\n",
    "    \n",
    "    url = \"https://npp.gov.in/public-reports/cea/daily/dgr/\"+date_folder_string_list[i]+\"/dgr1-\"+date_file_string_list[i]+\".pdf\"\n",
    "    response = requests.get(url)\n",
    "    \n",
    "    output = open('../data/raw/dailyPubReports/Report1/'+date_file_string_list[i]+'.pdf', 'wb')\n",
    "    output.write(response.content)\n",
    "    output.close()"
   ]
  },
  {
   "cell_type": "markdown",
   "metadata": {},
   "source": [
    "### Report 3"
   ]
  },
  {
   "cell_type": "code",
   "execution_count": 7,
   "metadata": {},
   "outputs": [],
   "source": [
    "for i in range(0,len(date_folder_string_list)):\n",
    "    \n",
    "    url = \"https://npp.gov.in/public-reports/cea/daily/dgr/\"+date_folder_string_list[i]+\"/dgr3-\"+date_file_string_list[i]+\".pdf\"\n",
    "    response = requests.get(url)\n",
    "    \n",
    "    output = open('../data/raw/dailyPubReports/Report3/'+date_file_string_list[i]+'.pdf', 'wb')\n",
    "    output.write(response.content)\n",
    "    output.close()"
   ]
  },
  {
   "cell_type": "markdown",
   "metadata": {},
   "source": [
    "### Report 4"
   ]
  },
  {
   "cell_type": "code",
   "execution_count": 8,
   "metadata": {},
   "outputs": [],
   "source": [
    "for i in range(0,len(date_folder_string_list)):\n",
    "    \n",
    "    url = \"https://npp.gov.in/public-reports/cea/daily/dgr/\"+date_folder_string_list[i]+\"/dgr4-\"+date_file_string_list[i]+\".pdf\"\n",
    "    response = requests.get(url)\n",
    "    \n",
    "    output = open('../data/raw/dailyPubReports/Report4/'+date_file_string_list[i]+'.pdf', 'wb')\n",
    "    output.write(response.content)\n",
    "    output.close()"
   ]
  },
  {
   "cell_type": "markdown",
   "metadata": {},
   "source": [
    "### Report 17"
   ]
  },
  {
   "cell_type": "code",
   "execution_count": 9,
   "metadata": {},
   "outputs": [],
   "source": [
    "for i in range(0,len(date_folder_string_list)):\n",
    "    \n",
    "    url = \"https://npp.gov.in/public-reports/cea/daily/dgr/\"+date_folder_string_list[i]+\"/dgr17-\"+date_file_string_list[i]+\".pdf\"\n",
    "    response = requests.get(url)\n",
    "    \n",
    "    output = open('../data/raw/dailyPubReports/Report17/'+date_file_string_list[i]+'.pdf', 'wb')\n",
    "    output.write(response.content)\n",
    "    output.close()"
   ]
  }
 ],
 "metadata": {
  "kernelspec": {
   "display_name": "Python 3",
   "language": "python",
   "name": "python3"
  },
  "language_info": {
   "codemirror_mode": {
    "name": "ipython",
    "version": 3
   },
   "file_extension": ".py",
   "mimetype": "text/x-python",
   "name": "python",
   "nbconvert_exporter": "python",
   "pygments_lexer": "ipython3",
   "version": "3.6.5"
  }
 },
 "nbformat": 4,
 "nbformat_minor": 2
}
